{
 "cells": [
  {
   "cell_type": "code",
   "execution_count": 5,
   "metadata": {},
   "outputs": [
    {
     "name": "stdout",
     "output_type": "stream",
     "text": [
      "(20,) (39,)\n"
     ]
    }
   ],
   "source": [
    "import numpy as np \n",
    "import matplotlib.pyplot as pyplot\n",
    "\n",
    "x=np.arange(0, 2*np.pi, np.pi/10) \n",
    "a=np.arange(0, 2*np.pi, 2*np.pi/39)\n",
    "#print(x)\n",
    "y=np.cos(x)\n",
    "z=np.sin(x)\n",
    "f,axarr = pyplot.subplots(2, sharex=True)\n",
    "f,ax = pyplot.subplots()#Sharing X-axis\n",
    "sin=axarr[0].plot(x,y)\n",
    "axarr[0].set_title('Cosine plot')\n",
    "cos=axarr[1].stem(x,z)\n",
    "axarr[1].set_title('Sine plot')\n",
    "convolution=np.convolve(y,z)\n",
    "print(np.shape(x),np.shape(convolution))\n",
    "pyplot.plot(a,convolution)\n",
    "#pyplot.set_title('Convolution')\n",
    "\n",
    "\n",
    "#print(z)\n",
    "#pyplot.stem(x,y);ig\n",
    "pyplot.show()"
   ]
  },
  {
   "cell_type": "code",
   "execution_count": null,
   "metadata": {},
   "outputs": [],
   "source": []
  }
 ],
 "metadata": {
  "kernelspec": {
   "display_name": "Python 3",
   "language": "python",
   "name": "python3"
  }
 },
 "nbformat": 4,
 "nbformat_minor": 2
}
