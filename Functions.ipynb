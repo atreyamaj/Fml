{
 "cells": [
  {
   "cell_type": "markdown",
   "metadata": {},
   "source": [
    "# Defining Functions\n",
    "\n",
    "\n",
    " <ul>\n",
    "  <li> Defining functions use the <I>def</I> command. </li>\n",
    "  <li> Functions can have arguments and return values  </li>\n",
    "  <li> Invoked by the name of the function </li>\n",
    "</ul> \n"
   ]
  },
  {
   "cell_type": "markdown",
   "metadata": {},
   "source": [
    "## Simple Function Definition"
   ]
  },
  {
   "cell_type": "code",
   "execution_count": 1,
   "metadata": {},
   "outputs": [],
   "source": [
    "def happy():   # There is a colon after function definition\n",
    "    print(\"Happy Birthday to You!\")  # Function block is indented "
   ]
  },
  {
   "cell_type": "markdown",
   "metadata": {},
   "source": [
    "### Function Call "
   ]
  },
  {
   "cell_type": "code",
   "execution_count": 2,
   "metadata": {},
   "outputs": [
    {
     "name": "stdout",
     "output_type": "stream",
     "text": [
      "Happy Birthday to You!\n"
     ]
    }
   ],
   "source": [
    "happy()"
   ]
  },
  {
   "cell_type": "markdown",
   "metadata": {},
   "source": [
    "## Functions with arguments "
   ]
  },
  {
   "cell_type": "code",
   "execution_count": 3,
   "metadata": {},
   "outputs": [],
   "source": [
    "def square(x):\n",
    "    y = x*x\n",
    "    return y\n",
    "\n",
    "def hbd(name):\n",
    "    print (\"Happy Birthday to \", name)\n",
    "    return\n",
    "    "
   ]
  },
  {
   "cell_type": "markdown",
   "metadata": {},
   "source": [
    "### Function call"
   ]
  },
  {
   "cell_type": "code",
   "execution_count": 5,
   "metadata": {},
   "outputs": [
    {
     "name": "stdout",
     "output_type": "stream",
     "text": [
      "3x3 =  9\n",
      " 3 squared twice  81\n",
      " In expression 11\n",
      "Happy Birthday to  John\n"
     ]
    }
   ],
   "source": [
    "z = 3 \n",
    "w = square(z); \n",
    "print(\"3x3 = \", w) \n",
    "\n",
    "print (\" 3 squared twice \", square(square(3)))\n",
    "print (\" In expression\", 2+square(3))\n",
    "\n",
    "\n",
    "hbd(\"John\")\n"
   ]
  },
  {
   "cell_type": "markdown",
   "metadata": {},
   "source": [
    "## Function Parameters"
   ]
  },
  {
   "cell_type": "code",
   "execution_count": 10,
   "metadata": {},
   "outputs": [
    {
     "name": "stdout",
     "output_type": "stream",
     "text": [
      "[105. 210.]\n",
      "Amount =  [100, 200]\n",
      "139941846641112\n"
     ]
    },
    {
     "data": {
      "text/plain": [
       "139941846616200"
      ]
     },
     "execution_count": 10,
     "metadata": {},
     "output_type": "execute_result"
    }
   ],
   "source": [
    "import numpy as np\n",
    "def addinterest(balance,rate):\n",
    "    balance = balance  + np.multiply(balance,rate)\n",
    "    print(balance)\n",
    "#    print(newbalance)\n",
    "    return balance\n",
    "\n",
    "amount = [100, 200]\n",
    "rate = .05 \n",
    "addinterest(amount, rate)\n",
    "\n",
    "\n",
    "#print(amount is addinterest) \n",
    "\n",
    "print(\"Amount = \" , amount );\n",
    "\n",
    "\n",
    "print(id(addinterest))\n",
    "id(amount)"
   ]
  },
  {
   "cell_type": "code",
   "execution_count": null,
   "metadata": {},
   "outputs": [],
   "source": []
  },
  {
   "cell_type": "markdown",
   "metadata": {},
   "source": [
    "## Arrays\n",
    "The function can change the value\n",
    "of the arguments"
   ]
  },
  {
   "cell_type": "code",
   "execution_count": 11,
   "metadata": {},
   "outputs": [
    {
     "name": "stdout",
     "output_type": "stream",
     "text": [
      "139941847376200\n",
      "[1050.0, 2000, 3000, 5000]\n",
      "139941847376200\n",
      "139941846641928\n"
     ]
    }
   ],
   "source": [
    "def addinterests(bal_list, rate):\n",
    "  #  bal_list = bal_list  + np.multiply(bal_list , rate)\n",
    "   for i in range (len(bal_list)):\n",
    "    bal_list[i] += (bal_list[i] * rate)\n",
    "    \n",
    "    print(id(bal_list))\n",
    "    return\n",
    "\n",
    "amounts = [1000, 2000, 3000, 5000]\n",
    "rate = 0.05\n",
    "\n",
    "addinterests(amounts,rate)\n",
    "\n",
    "print(amounts)\n",
    "\n",
    "\n",
    "\n",
    "print(id(amounts))\n",
    "print(id(addinterests))"
   ]
  },
  {
   "cell_type": "code",
   "execution_count": 14,
   "metadata": {},
   "outputs": [
    {
     "data": {
      "text/plain": [
       "array([1., 2., 3., 4., 5., 6., 0., 0., 0., 0., 0., 1., 2., 3., 4., 5., 6.])"
      ]
     },
     "execution_count": 14,
     "metadata": {},
     "output_type": "execute_result"
    }
   ],
   "source": [
    "x=[1,2,3,4,5,6]\n",
    "x1=np.zeros(5)\n",
    "np.append(x,np.append(x1,x))\n",
    "\n",
    "#x1"
   ]
  },
  {
   "cell_type": "code",
   "execution_count": null,
   "metadata": {},
   "outputs": [],
   "source": []
  }
 ],
 "metadata": {
  "kernelspec": {
   "display_name": "Python 3",
   "language": "python",
   "name": "python3"
  },
  "language_info": {
   "codemirror_mode": {
    "name": "ipython",
    "version": 3
   },
   "file_extension": ".py",
   "mimetype": "text/x-python",
   "name": "python",
   "nbconvert_exporter": "python",
   "pygments_lexer": "ipython3",
   "version": "3.4.3"
  }
 },
 "nbformat": 4,
 "nbformat_minor": 2
}
