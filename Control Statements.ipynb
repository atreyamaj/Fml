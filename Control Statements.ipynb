{
 "cells": [
  {
   "cell_type": "markdown",
   "metadata": {},
   "source": [
    "# Decision Making and Loops"
   ]
  },
  {
   "cell_type": "markdown",
   "metadata": {},
   "source": [
    " <ul>\n",
    "  <li>Branch Statements</li>\n",
    "  <ul>\n",
    "    <li>Conditional execution :  if </li>\n",
    "    <li>Two way decision : if-else </li>\n",
    "    <li>Multi way decision : if-elif-if </li>\n",
    "  </ul> \n",
    "  <li>Loop statements</li>\n",
    "  <ul>\n",
    "    <li>Range based :  for </li>\n",
    "    <li>Decision based  : while </li>\n",
    "  </ul> \n",
    "</ul> "
   ]
  },
  {
   "cell_type": "markdown",
   "metadata": {},
   "source": [
    "## Conditional Execution"
   ]
  },
  {
   "cell_type": "code",
   "execution_count": 1,
   "metadata": {},
   "outputs": [
    {
     "name": "stdout",
     "output_type": "stream",
     "text": [
      "What is the temperature ? 12\n"
     ]
    }
   ],
   "source": [
    "temp = int(input(\"What is the temperature ? \"));\n",
    "if(temp > 35):\n",
    "    print(\" Too hot !!\")"
   ]
  },
  {
   "cell_type": "markdown",
   "metadata": {},
   "source": [
    "### Two way decisions "
   ]
  },
  {
   "cell_type": "code",
   "execution_count": 2,
   "metadata": {},
   "outputs": [],
   "source": [
    "import numpy as np \n"
   ]
  },
  {
   "cell_type": "code",
   "execution_count": 3,
   "metadata": {},
   "outputs": [],
   "source": [
    "def quad_solv(a,b,c):\n",
    "#  This function determines the roots of a \n",
    "#  quadratic equation if they are real. \n",
    "\n",
    "    discrim = b*b - 4*a*c; \n",
    "    if(discrim >= 0):\n",
    "        sqrtdiscr = np.sqrt(discrim);\n",
    "        root1 = (-b + sqrtdiscr)/(2*a);\n",
    "        root2 = (-b - sqrtdiscr)/(2*a);\n",
    "        print (\"Roots = \", root1, \",\",root2);\n",
    "    else:\n",
    "        print (\"No real roots\" )\n",
    "    return;"
   ]
  },
  {
   "cell_type": "code",
   "execution_count": null,
   "metadata": {},
   "outputs": [],
   "source": [
    "(a,b,c) = [int(x) for x in input(\"Input the coefficients (a,b,c): \").split()]\n",
    "quad_solv(a,b,c)"
   ]
  },
  {
   "cell_type": "markdown",
   "metadata": {},
   "source": [
    "\n",
    "### Multi way decisions"
   ]
  },
  {
   "cell_type": "code",
   "execution_count": 9,
   "metadata": {},
   "outputs": [],
   "source": [
    "def max3(x1,x2,x3):\n",
    "# This function determines \n",
    "# the maximum of three numbers\n",
    "    if (x1 > x2  and x1 > x3 ):\n",
    "        mx = x1; \n",
    "    elif ( x2 >= x1 and x2 >= x3 ):\n",
    "        mx = x2; \n",
    "    else:\n",
    "        mx = x3;\n",
    "    return mx"
   ]
  },
  {
   "cell_type": "code",
   "execution_count": 10,
   "metadata": {},
   "outputs": [
    {
     "name": "stdout",
     "output_type": "stream",
     "text": [
      "30\n",
      "-10\n"
     ]
    }
   ],
   "source": [
    "print(max3(10,20,30))\n",
    "\n",
    "print(max3(-10, -20, -30))"
   ]
  },
  {
   "cell_type": "markdown",
   "metadata": {},
   "source": [
    "## For Loops\n",
    "Most common loop is the \"for\" loop\n",
    "\n",
    "the indexing is using range function\n",
    "\n",
    "### Example"
   ]
  },
  {
   "cell_type": "code",
   "execution_count": 5,
   "metadata": {},
   "outputs": [
    {
     "name": "stdout",
     "output_type": "stream",
     "text": [
      "0\n",
      "1\n",
      "2\n",
      "3\n",
      "4\n"
     ]
    }
   ],
   "source": [
    "for i in range(5):\n",
    "    print(i);"
   ]
  },
  {
   "cell_type": "markdown",
   "metadata": {},
   "source": [
    "Note that the \"i\" ranges from 0 to 4\n",
    "The last value is never included \n",
    "\n",
    "Starting and ending values can be given with the syntax <br> <b> range(start, end, increment) </b>"
   ]
  },
  {
   "cell_type": "code",
   "execution_count": 6,
   "metadata": {},
   "outputs": [
    {
     "name": "stdout",
     "output_type": "stream",
     "text": [
      "3\n",
      "5\n",
      "7\n",
      "9\n",
      "11\n"
     ]
    }
   ],
   "source": [
    "for i in range(3,12,2):\n",
    "    print (i);"
   ]
  },
  {
   "cell_type": "markdown",
   "metadata": {},
   "source": [
    "Float values can be given with arange from numpy"
   ]
  },
  {
   "cell_type": "code",
   "execution_count": 7,
   "metadata": {},
   "outputs": [
    {
     "name": "stdout",
     "output_type": "stream",
     "text": [
      "1.5\n",
      "2.0\n",
      "2.5\n",
      "3.0\n",
      "3.5\n",
      "4.0\n",
      "4.5\n"
     ]
    }
   ],
   "source": [
    "for i in np.arange(1.5,5,0.5):\n",
    "    print(i)"
   ]
  },
  {
   "cell_type": "markdown",
   "metadata": {},
   "source": [
    "## While Loop\n",
    "This constructs repeatedly checks a condition and executes till it is true\n"
   ]
  },
  {
   "cell_type": "code",
   "execution_count": null,
   "metadata": {
    "scrolled": true
   },
   "outputs": [],
   "source": [
    "count = 0\n",
    "while (count < 9):\n",
    "   print ('The count is:', count)\n",
    "   count = count + 1\n",
    "\n",
    "print (\"Good bye!\")"
   ]
  },
  {
   "cell_type": "markdown",
   "metadata": {},
   "source": [
    "An optional else statement can be added to the while : "
   ]
  },
  {
   "cell_type": "code",
   "execution_count": null,
   "metadata": {},
   "outputs": [],
   "source": [
    "count = 0\n",
    "while (count < 9):\n",
    "    print ('The count is:', count)\n",
    "    count = count + 1\n",
    "else:\n",
    "    print (\"Loop Over\")\n",
    "\n",
    "print (\"Good bye!\")"
   ]
  },
  {
   "cell_type": "code",
   "execution_count": null,
   "metadata": {},
   "outputs": [],
   "source": [
    "(a,b,c) = input(\"Input the coefficients (a,b,c): \").split(\",\")\n",
    "print(c)"
   ]
  },
  {
   "cell_type": "code",
   "execution_count": null,
   "metadata": {},
   "outputs": [],
   "source": []
  }
 ],
 "metadata": {
  "kernelspec": {
   "display_name": "Python 3",
   "language": "python",
   "name": "python3"
  },
  "language_info": {
   "codemirror_mode": {
    "name": "ipython",
    "version": 3
   },
   "file_extension": ".py",
   "mimetype": "text/x-python",
   "name": "python",
   "nbconvert_exporter": "python",
   "pygments_lexer": "ipython3",
   "version": "3.4.3"
  }
 },
 "nbformat": 4,
 "nbformat_minor": 2
}
